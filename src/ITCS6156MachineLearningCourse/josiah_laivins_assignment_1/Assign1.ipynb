{
 "cells": [
  {
   "cell_type": "markdown",
   "metadata": {},
   "source": [
    "# Assignment #1 - Linear Regression\n",
    "\n",
    "<font color=\"red\"> <b> Due: Sep 20 (Thursday) 11:00 pm </b> </font>"
   ]
  },
  {
   "cell_type": "markdown",
   "metadata": {},
   "source": [
    "<font color=\"blue\"> Josiah Laivins </font>"
   ]
  },
  {
   "cell_type": "markdown",
   "metadata": {},
   "source": [
    "# Introduction\n",
    "\n",
    "Climate Change data is always a good category to be familiar with. There are many times where I have had discussions with people and they would tell me that the global temperature increase is not happening, or that it is not correlated with human activity. I think that being able to download data sets of global temperatures and correlate them with human activity would not only be interesting, but also enlightening personally. Since part of this analysis is correlating temperatures with increasing years, I thought this would be excellent for regression. "
   ]
  },
  {
   "cell_type": "markdown",
   "metadata": {},
   "source": [
    "# Data\n",
    "\n",
    "The link this data set can be found [at this Kaggle climate change link](https://www.kaggle.com/berkeleyearth/climate-change-earth-surface-temperature-data/home)\n",
    "\n",
    "Climate change seemed appropriate for regression. \n",
    "The main set I was interested in was the Global Temperatures. The data set also has temperatures filtered by City, Country and State. \n",
    "The data ranges from years 1750 to around 2015. \n",
    "\n",
    "The features in the GlobalTemperatures csv are: \n",
    "- 'datetime'\n",
    "- 'LandAverageTemperature'\n",
    "- 'LandAverageTemperatureUncertainty'\n",
    "- 'LandMaxTemperature'\n",
    "- 'LandMaxTemperatureUncertainty',\n",
    "- 'LandMinTemperature'\n",
    "- 'LandMinTemperatureUncertainty',\n",
    "- 'LandAndOceanAverageTemperature',\n",
    "- 'LandAndOceanAverageTemperatureUncertainty'\n",
    "\n",
    "There are 3179 records in this csv, however there are other csv's that have records up to 577462 records such as the GlobalLandTemperaturesByCountry csv. "
   ]
  },
  {
   "cell_type": "markdown",
   "metadata": {},
   "source": [
    "# Method\n",
    "\n",
    "Summarize the linear models (least-squares and LMS) and explain your implementation of **class** *LinearModel*. \n",
    "The explanation of your codes should not be the comments in a code cell. \n",
    "This section should include\n",
    " - review of the linear models \n",
    " - your implementation and description\n"
   ]
  },
  {
   "cell_type": "markdown",
   "metadata": {},
   "source": [
    "### Super Classs Definition"
   ]
  },
  {
   "cell_type": "code",
   "execution_count": null,
   "metadata": {},
   "outputs": [],
   "source": [
    "import numpy as np \n",
    "from abc import ABC, abstractmethod\n",
    "\n",
    "# Super class for machine learning models \n",
    "\n",
    "class BaseModel(ABC):\n",
    "    \"\"\" Super class for ITCS Machine Learning Class\"\"\"\n",
    "    \n",
    "    @abstractmethod\n",
    "    def train(self, X, T):\n",
    "        pass\n",
    "\n",
    "    @abstractmethod\n",
    "    def use(self, X):\n",
    "        pass\n",
    "\n",
    "    \n",
    "class LinearModel(BaseModel):\n",
    "    \"\"\"\n",
    "        Abstract class for a linear model \n",
    "        \n",
    "        Attributes\n",
    "        ==========\n",
    "        w       ndarray\n",
    "                weight vector/matrix\n",
    "    \"\"\"\n",
    "\n",
    "    def __init__(self):\n",
    "        \"\"\"\n",
    "            weight vector w is initialized as None\n",
    "        \"\"\"\n",
    "        self.w = None\n",
    "\n",
    "    def _check_matrix(self, mat, name):\n",
    "        if len(mat.shape) != 2:\n",
    "            raise ValueError(''.join([\"Wrong matrix \", name]))\n",
    "        \n",
    "    # add a basis\n",
    "    def add_ones(self, X):\n",
    "        \"\"\"\n",
    "            add a column basis to X input matrix\n",
    "        \"\"\"\n",
    "        self._check_matrix(X, 'X')\n",
    "        return np.hstack((np.ones((X.shape[0], 1)), X))\n",
    "\n",
    "    ####################################################\n",
    "    #### abstract funcitons ############################\n",
    "    @abstractmethod\n",
    "    def train(self, X, T):\n",
    "        \"\"\"\n",
    "            train linear model\n",
    "            \n",
    "            parameters\n",
    "            -----------\n",
    "            X     2d array\n",
    "                  input data\n",
    "            T     2d array\n",
    "                  target labels\n",
    "        \"\"\"        \n",
    "        pass\n",
    "    \n",
    "    @abstractmethod\n",
    "    def use(self, X):\n",
    "        \"\"\"\n",
    "            apply the learned model to input X\n",
    "            \n",
    "            parameters\n",
    "            ----------\n",
    "            X     2d array\n",
    "                  input data\n",
    "            \n",
    "        \"\"\"        \n",
    "        pass "
   ]
  },
  {
   "cell_type": "markdown",
   "metadata": {},
   "source": [
    "### Least Squares"
   ]
  },
  {
   "cell_type": "code",
   "execution_count": 55,
   "metadata": {},
   "outputs": [],
   "source": [
    "# Linear Regression Class for least squares\n",
    "class LinearRegress(LinearModel): \n",
    "    \"\"\" \n",
    "        LinearRegress class \n",
    "        \n",
    "        attributes\n",
    "        ===========\n",
    "        w    nd.array  (column vector/matrix)\n",
    "             weights\n",
    "    \"\"\"\n",
    "    def __init__(self):\n",
    "        LinearModel.__init__(self)\n",
    "        self.w = []\n",
    "        self.offset = 0\n",
    "        \n",
    "    # train lease-squares model\n",
    "    def train(self, X, T):\n",
    "        # Goal is yi = b0_hat + b1_hat * xi\n",
    "        \n",
    "#         print(f'Targets: {T}')\n",
    "#         print(f'X values: {X}')\n",
    "\n",
    "#         # First we need b1_hat\n",
    "#         Sxx = sum([(x - sum(X) / len(X)) ** 2 for x in X])\n",
    "#         Sxy = sum([(x - sum(X) / len(X)) * (y - sum(T) / len(T)) for x, y in zip(X, T)])\n",
    "        \n",
    "#         print(f'{Sxx}')\n",
    "#         print(f'{Sxy}')\n",
    "\n",
    "#         b1_hat = Sxy / Sxx\n",
    "#         # Then we get b0_hat\n",
    "#         b0_hat = sum(T) / len(T) - b1_hat * (sum(X) / len(X))\n",
    "\n",
    "#         print(f'Sxx: {Sxx} Sxy: {Sxy}')\n",
    "#         print(f'b1_hat is: {b1_hat} and b0_hat is {b0_hat}')\n",
    "#         # And so the resulting equation can be\n",
    "#         # y = b0_hat + b1_hat * x where x is the 'time period' and y is the target\n",
    "#         self.w = b1_hat\n",
    "#         self.offset = b0_hat\n",
    "        N = X.shape[0]\n",
    "        # TODO: code for finding w\n",
    "        X1 = np.hstack((np.ones((N, 1)), X.reshape((X.shape[0], -1))))\n",
    "        X1_dot = X1.T @ X1\n",
    "        inverted_matrix = np.linalg.inv(X1_dot)\n",
    "        print(f'X1_dot: \\n{X1_dot} \\n\\n Inverted Matrix:\\n{inverted_matrix} ')\n",
    "        self.w = inverted_matrix @ X1.T @ T \n",
    "    \n",
    "    # apply the learned model to data X\n",
    "    def use(self, X):\n",
    "        N = X.shape[0]\n",
    "        X1 = np.hstack((np.ones((N, 1)), X.reshape((X.shape[0], -1))))\n",
    "        print(f'\\nPredict Shapes: {self.w.shape} {X.shape} {X1.shape}')\n",
    "        \n",
    "        print(f'\\nW: \\n{self.w} \\nX: \\n{X} \\n X1: \\n{X1}')\n",
    "        \n",
    "        print(f'\\n Result:\\n {np.transpose(self.w) @ np.transpose(X1)}')\n",
    "        return X1 @ self.w \n"
   ]
  },
  {
   "cell_type": "markdown",
   "metadata": {},
   "source": [
    "### Least Mean Squares"
   ]
  },
  {
   "cell_type": "code",
   "execution_count": 22,
   "metadata": {},
   "outputs": [],
   "source": [
    "import collections # for checking iterable instance\n",
    "\n",
    "# LMS class \n",
    "class LMS(LinearModel):\n",
    "    \"\"\"\n",
    "        Lease Mean Squares. online learning algorithm\n",
    "    \n",
    "        attributes\n",
    "        ==========\n",
    "        w        nd.array\n",
    "                 weight matrix\n",
    "        alpha    float\n",
    "                 learning rate\n",
    "    \"\"\"\n",
    "    def __init__(self, alpha, k=-1, offset=0):\n",
    "        LinearModel.__init__(self)\n",
    "        self.alpha = alpha\n",
    "        self.k = k\n",
    "        self.w = []\n",
    "        self.offset = offset\n",
    "    \n",
    "    # batch training by using train_step function\n",
    "    def train(self, X, T):\n",
    "        for x, t in zip(X, T):\n",
    "            self.train_step(x, t)\n",
    "            \n",
    "    # train LMS model one step \n",
    "    # here the x is 1d vector\n",
    "    def train_step(self, x, t):\n",
    "        if self.k == -1:\n",
    "            self.k += 1\n",
    "            self.w = [self.alpha * (X[self.k] - T[self.k]) * X[self.k]]\n",
    "        elif self.k != X.shape[0] - 1:\n",
    "            self.w.append(0)\n",
    "            self.w[self.k+1] = self.w[self.k] - self.alpha * (self.w[self.k] * X[self.k] - T[self.k]) * X[self.k]\n",
    "            self.k += 1\n",
    "    \n",
    "    # apply the current model to data X\n",
    "    def use(self, X):\n",
    "        return self.offset + self.w @ X\n",
    "        "
   ]
  },
  {
   "cell_type": "markdown",
   "metadata": {},
   "source": [
    "### Usage Examples"
   ]
  },
  {
   "cell_type": "code",
   "execution_count": 5,
   "metadata": {},
   "outputs": [],
   "source": [
    "# HERE follow are for my code tests.\n",
    "\n",
    "import matplotlib.pyplot as plt\n",
    "%matplotlib inline"
   ]
  },
  {
   "cell_type": "code",
   "execution_count": 54,
   "metadata": {},
   "outputs": [
    {
     "name": "stdout",
     "output_type": "stream",
     "text": [
      "X1_dot: \n",
      "[[  7.  34.  31.]\n",
      " [ 34. 206. 121.]\n",
      " [ 31. 121. 169.]] \n",
      "\n",
      " Inverted Matrix:\n",
      "[[ 6.84062394 -0.67650051 -0.77043065]\n",
      " [-0.67650051  0.07527976  0.07019329]\n",
      " [-0.77043065  0.07019329  0.09698203]] \n",
      "\n",
      "Predict Shapes: (3, 1) (7, 2) (7, 3)\n",
      "\n",
      "W: \n",
      "[[ 3.]\n",
      " [ 3.]\n",
      " [-2.]] \n",
      "X: \n",
      "[[2 5]\n",
      " [6 2]\n",
      " [1 9]\n",
      " [4 5]\n",
      " [6 3]\n",
      " [7 4]\n",
      " [8 3]] \n",
      " X1: \n",
      "[[1. 2. 5.]\n",
      " [1. 6. 2.]\n",
      " [1. 1. 9.]\n",
      " [1. 4. 5.]\n",
      " [1. 6. 3.]\n",
      " [1. 7. 4.]\n",
      " [1. 8. 3.]]\n",
      "\n",
      " Result:\n",
      " [[ -1.  17. -12.   5.  15.  16.  21.]]\n"
     ]
    },
    {
     "name": "stderr",
     "output_type": "stream",
     "text": [
      "C:\\ProgramData\\Anaconda3\\lib\\site-packages\\matplotlib\\axes\\_axes.py:545: UserWarning: No labelled objects found. Use label='...' kwarg on individual plots.\n",
      "  warnings.warn(\"No labelled objects found. \"\n"
     ]
    },
    {
     "data": {
      "text/plain": [
       "[<matplotlib.lines.Line2D at 0x2459757c470>,\n",
       " <matplotlib.lines.Line2D at 0x2459757c4a8>,\n",
       " <matplotlib.lines.Line2D at 0x2459757c6d8>,\n",
       " <matplotlib.lines.Line2D at 0x2459757c8d0>,\n",
       " <matplotlib.lines.Line2D at 0x2459757cac8>,\n",
       " <matplotlib.lines.Line2D at 0x2459757ccc0>,\n",
       " <matplotlib.lines.Line2D at 0x2459757ceb8>]"
      ]
     },
     "execution_count": 54,
     "metadata": {},
     "output_type": "execute_result"
    },
    {
     "data": {
      "image/png": "[encoded data removed]",
      "text/plain": [
       "<matplotlib.figure.Figure at 0x24596eeafd0>"
      ]
     },
     "metadata": {},
     "output_type": "display_data"
    }
   ],
   "source": [
    "# X = np.linspace(0,10, 11).reshape((-1, 1))\n",
    "# T = -2 * X + 3.2\n",
    "X = np.array([[2,5],\n",
    "              [6,2],\n",
    "              [1,9],\n",
    "              [4,5],\n",
    "              [6,3],\n",
    "              [7,4],\n",
    "              [8,3]])\n",
    "T = X[:,0, None] * 3 - 2 * X[:, 1, None] + 3\n",
    "\n",
    "\n",
    "ls = LinearRegress()\n",
    "\n",
    "ls.train(X, T)\n",
    "\n",
    "plt.plot(T, label='Ground Truth')\n",
    "plt.legend()\n",
    "plt.plot(ls.use(X))\n"
   ]
  },
  {
   "cell_type": "code",
   "execution_count": 23,
   "metadata": {},
   "outputs": [
    {
     "name": "stdout",
     "output_type": "stream",
     "text": [
      "Targets: [[ -1]\n",
      " [ 17]\n",
      " [-12]\n",
      " [  5]\n",
      " [ 15]\n",
      " [ 16]\n",
      " [ 21]] X: [[2 5]\n",
      " [6 2]\n",
      " [1 9]\n",
      " [4 5]\n",
      " [6 3]\n",
      " [7 4]\n",
      " [8 3]]\n"
     ]
    },
    {
     "ename": "ValueError",
     "evalue": "shapes (1,2) and (7,2) not aligned: 2 (dim 1) != 7 (dim 0)",
     "traceback": [
      "\u001b[1;31m---------------------------------------------------------------------------\u001b[0m",
      "\u001b[1;31mValueError\u001b[0m                                Traceback (most recent call last)",
      "\u001b[1;32m<ipython-input-23-571d26eb4902>\u001b[0m in \u001b[0;36m<module>\u001b[1;34m()\u001b[0m\n\u001b[0;32m      7\u001b[0m     \u001b[0mlms\u001b[0m\u001b[1;33m.\u001b[0m\u001b[0mtrain_step\u001b[0m\u001b[1;33m(\u001b[0m\u001b[0mx\u001b[0m\u001b[1;33m,\u001b[0m \u001b[0mt\u001b[0m\u001b[1;33m)\u001b[0m\u001b[1;33m\u001b[0m\u001b[0m\n\u001b[0;32m      8\u001b[0m     \u001b[0mplt\u001b[0m\u001b[1;33m.\u001b[0m\u001b[0mclf\u001b[0m\u001b[1;33m(\u001b[0m\u001b[1;33m)\u001b[0m\u001b[1;33m\u001b[0m\u001b[0m\n\u001b[1;32m----> 9\u001b[1;33m     \u001b[0mplt\u001b[0m\u001b[1;33m.\u001b[0m\u001b[0mplot\u001b[0m\u001b[1;33m(\u001b[0m\u001b[0mlms\u001b[0m\u001b[1;33m.\u001b[0m\u001b[0muse\u001b[0m\u001b[1;33m(\u001b[0m\u001b[0mX\u001b[0m\u001b[1;33m)\u001b[0m\u001b[1;33m)\u001b[0m\u001b[1;33m\u001b[0m\u001b[0m\n\u001b[0m\u001b[0;32m     10\u001b[0m     \u001b[0mipd\u001b[0m\u001b[1;33m.\u001b[0m\u001b[0mclear_output\u001b[0m\u001b[1;33m(\u001b[0m\u001b[0mwait\u001b[0m\u001b[1;33m=\u001b[0m\u001b[1;32mTrue\u001b[0m\u001b[1;33m)\u001b[0m\u001b[1;33m\u001b[0m\u001b[0m\n\u001b[0;32m     11\u001b[0m     \u001b[0mipd\u001b[0m\u001b[1;33m.\u001b[0m\u001b[0mdisplay\u001b[0m\u001b[1;33m(\u001b[0m\u001b[0mfig\u001b[0m\u001b[1;33m)\u001b[0m\u001b[1;33m\u001b[0m\u001b[0m\n",
      "\u001b[1;32m<ipython-input-22-ee12a45d64ed>\u001b[0m in \u001b[0;36muse\u001b[1;34m(self, X)\u001b[0m\n\u001b[0;32m     38\u001b[0m     \u001b[1;31m# apply the current model to data X\u001b[0m\u001b[1;33m\u001b[0m\u001b[1;33m\u001b[0m\u001b[0m\n\u001b[0;32m     39\u001b[0m     \u001b[1;32mdef\u001b[0m \u001b[0muse\u001b[0m\u001b[1;33m(\u001b[0m\u001b[0mself\u001b[0m\u001b[1;33m,\u001b[0m \u001b[0mX\u001b[0m\u001b[1;33m)\u001b[0m\u001b[1;33m:\u001b[0m\u001b[1;33m\u001b[0m\u001b[0m\n\u001b[1;32m---> 40\u001b[1;33m         \u001b[1;32mreturn\u001b[0m \u001b[0mself\u001b[0m\u001b[1;33m.\u001b[0m\u001b[0moffset\u001b[0m \u001b[1;33m+\u001b[0m \u001b[0mself\u001b[0m\u001b[1;33m.\u001b[0m\u001b[0mw\u001b[0m \u001b[1;33m@\u001b[0m \u001b[0mX\u001b[0m\u001b[1;33m\u001b[0m\u001b[0m\n\u001b[0m\u001b[0;32m     41\u001b[0m \u001b[1;33m\u001b[0m\u001b[0m\n",
      "\u001b[1;31mValueError\u001b[0m: shapes (1,2) and (7,2) not aligned: 2 (dim 1) != 7 (dim 0)"
     ],
     "output_type": "error"
    },
    {
     "data": {
      "text/plain": [
       "<matplotlib.figure.Figure at 0x2459716af98>"
      ]
     },
     "metadata": {},
     "output_type": "display_data"
    }
   ],
   "source": [
    "import IPython.display as ipd  # for display and clear_output\n",
    "fig = plt.figure()\n",
    "\n",
    "lms = LMS(0.02)\n",
    "print(f'Targets: {T} X: {X}')\n",
    "for x, t in zip(X, T):\n",
    "    lms.train_step(x, t)\n",
    "    plt.clf()\n",
    "    plt.plot(lms.use(X))\n",
    "    ipd.clear_output(wait=True)\n",
    "    ipd.display(fig)\n",
    "ipd.clear_output(wait=True)\n",
    "\n",
    "plt.plot(T, label='Ground Truth')\n",
    "plt.legend()\n"
   ]
  },
  {
   "cell_type": "markdown",
   "metadata": {},
   "source": [
    "# Note: How do you to change the 'use' method to return a value that has the same dimensions as the target?"
   ]
  },
  {
   "cell_type": "code",
   "execution_count": null,
   "metadata": {},
   "outputs": [],
   "source": [
    "lms.train(X, T)\n",
    "plt.plot(lms.use(X))"
   ]
  },
  {
   "cell_type": "markdown",
   "metadata": {},
   "source": [
    "# Experiments\n",
    "\n",
    "Apply two methods on the data and discuss the results.\n",
    "Please describe your experiment and related codes. You may have subsections of results and discussions here.\n"
   ]
  },
  {
   "cell_type": "code",
   "execution_count": null,
   "metadata": {},
   "outputs": [],
   "source": [
    "import pandas as pd\n",
    "nrows = None\n",
    "\n",
    "# Get Data\n",
    "data = pd.read_csv('./data/climate-change-earth-surface-temperature-data/GlobalTemperatures.csv', nrows=nrows)\n",
    "data.dropna(subset=['LandAndOceanAverageTemperature'], inplace=True)\n",
    "data = data.reset_index(drop=True)\n",
    "past_dt = list(pd.to_datetime(data['dt']))\n",
    "xaxis = past_dt\n",
    "nrows = data.shape[0]\n",
    "\n",
    "# Set the target line\n",
    "target = np.array(data['LandAndOceanAverageTemperature']).reshape(-1, 1)\n",
    "ls = LinearRegress()\n",
    "\n",
    "ls.train(X, target)\n",
    "\n",
    "# Build plot\n",
    "fig, ax = plt.subplots(figsize=(10,10))\n",
    "ax.plot(target, label='Recorded Temperatures')\n",
    "ax.plot(ls.use(X), label='Predicted Temperatures')\n",
    "\n",
    "# Make it look nice\n",
    "fig.autofmt_xdate()\n",
    "dates = [d.strftime('%Y/%m/%d') for d in xaxis]\n",
    "plt.xticks(range(0, len(dates), int(len(dates) / 20+2)), dates[::int(len(dates) / 20+2)])\n",
    "plt.title(f'Prediction using: {nrows} samples')\n",
    "plt.ylabel('Average Land and Ocean Temperature')\n",
    "plt.xlabel('Time Period (YYYY/MM/DD)')\n",
    "plt.legend()\n",
    "plt.show()"
   ]
  },
  {
   "cell_type": "markdown",
   "metadata": {},
   "source": [
    "# Conclusions\n",
    "\n",
    "Discuss the challenges or somethat that you learned. \n",
    "If you have any suggestion about the assignment, you can write about it. "
   ]
  },
  {
   "cell_type": "markdown",
   "metadata": {},
   "source": [
    "# References"
   ]
  },
  {
   "cell_type": "markdown",
   "metadata": {},
   "source": [
    "# Extra Credit\n",
    "\n",
    "If you want to work more for an extra credit, place your work here for additional analysis: weight and residual analysis. \n",
    "Try to answer to the following questions: \n",
    "- what is the most and least significant features for your data.\n",
    "- what are the consequences if you remove those features from the model? (Show your work!)\n",
    "- produce residual plots and observe the patterns for the goodness of fit    \n",
    "    "
   ]
  },
  {
   "cell_type": "markdown",
   "metadata": {},
   "source": [
    "## Grading\n",
    "\n",
    "DO NOT forget to submit your data! Your notebook is supposed to run well after running your codes. \n",
    "\n",
    "Points | | Description\n",
    "--|--|:--\n",
    "5 | Introduction  \n",
    "20 | Data | \n",
    " | 5| description \n",
    " | 5| plots for understanding or analysis \n",
    " | 5| preliminary observation \n",
    " | 5| Preprocessing of the data \n",
    "40 | Method | \n",
    " | 5| review\n",
    " | 5| explanation of codes\n",
    " | 30| Correct implementation (preliminary test)\n",
    "30 | Experiments | \n",
    " | 5| description, codes\n",
    " | 10| visualization of results\n",
    " | 15| analysis / comparison of algorithms\n",
    "5 | Conclusions, References "
   ]
  },
  {
   "cell_type": "markdown",
   "metadata": {},
   "source": [
    "# Preliminary Test"
   ]
  },
  {
   "cell_type": "code",
   "execution_count": 12,
   "metadata": {},
   "outputs": [
    {
     "name": "stdout",
     "output_type": "stream",
     "text": [
      "training  LS ...\n",
      "Sxx: [40.85714286 31.71428571] Sxy: [ 181.71428571 -152.14285714]\n",
      "b1_hat is: [ 4.44755245 -4.7972973 ] and b0_hat is [-12.88811189  29.95945946]\n",
      "training  LMS_All ...\n",
      "training  LMS_1STEP ...\n",
      "---- Testing  LS ... failed. 12.680647037860854 1.19e-13\n",
      "---- Testing  LMS_All ... failed. 40.725661819043154 2.8753214702\n",
      "---- Testing  LMS_1STEP ... failed. 50.69010159784649 38.0584918251\n"
     ]
    }
   ],
   "source": [
    "##################### WHAT I WILL RELEASE ############\n",
    "\n",
    "# Self-Test code for accuracy of your model - DO NOT MODIFY THIS\n",
    "# Primilnary test data\n",
    "X = np.array([[2,5],\n",
    "              [6,2],\n",
    "              [1,9],\n",
    "              [4,5],\n",
    "              [6,3],\n",
    "              [7,4],\n",
    "              [8,3]])\n",
    "T = X[:,0, None] * 3 - 2 * X[:, 1, None] + 3\n",
    "N = X.shape[0]\n",
    "\n",
    "def rmse(T, Y):\n",
    "    return np.sqrt(np.sum((T-Y)**2))\n",
    "\n",
    "model_names = ['LS', 'LMS_All', 'LMS_1STEP']\n",
    "models = [LinearRegress(), LMS(0.02), LMS(0.02)]\n",
    "#train\n",
    "for i, model in enumerate(models):\n",
    "    print(\"training \", model_names[i], \"...\") \n",
    "    if i == len(models) -1: \n",
    "        # train only one step for LMS2\n",
    "        model.train_step(X[0], T[0])\n",
    "    else:\n",
    "        model.train(X, T)\n",
    "\n",
    "def check(a, b, eps=np.finfo(float).eps):\n",
    "    if abs(a-b) > eps:\n",
    "        print(\"failed.\", a, b)\n",
    "    else:\n",
    "        print(\"passed.\")\n",
    "\n",
    "errors = [1.19e-13, 2.8753214702, 38.0584918251]\n",
    "for i, model in enumerate(models):\n",
    "    print(\"---- Testing \", model_names[i], \"...\", end=\" \") \n",
    "    \n",
    "    # rmse test\n",
    "    err = rmse(T, model.use(X))\n",
    "    if check(err, errors[i], eps=1e-10):\n",
    "        print (\"check your weights: \", model.w)\n",
    "        print (\"oracle: \", )\n"
   ]
  },
  {
   "cell_type": "markdown",
   "metadata": {},
   "source": [
    "# Note: Why does Ls fail??? The graph above matches pretty closely.."
   ]
  }
 ],
 "metadata": {
  "kernelspec": {
   "display_name": "Python 3",
   "language": "python",
   "name": "python3"
  },
  "language_info": {
   "codemirror_mode": {
    "name": "ipython",
    "version": 3
   },
   "file_extension": ".py",
   "mimetype": "text/x-python",
   "name": "python",
   "nbconvert_exporter": "python",
   "pygments_lexer": "ipython3",
   "version": "3.6.6"
  }
 },
 "nbformat": 4,
 "nbformat_minor": 2
}
