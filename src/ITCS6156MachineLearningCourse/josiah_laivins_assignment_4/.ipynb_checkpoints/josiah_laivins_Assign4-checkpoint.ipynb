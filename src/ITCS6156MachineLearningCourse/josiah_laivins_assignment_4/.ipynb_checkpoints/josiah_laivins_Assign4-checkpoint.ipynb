{
 "cells": [
  {
   "cell_type": "markdown",
   "metadata": {},
   "source": [
    "# Assignment #4 - Neural Networks\n",
    "\n",
    "### <font color=\"red\"> DUE: Nov 16 (Thursday) 11:00 pm </font>  "
   ]
  },
  {
   "cell_type": "markdown",
   "metadata": {},
   "source": [
    "<font color=\"blue\"> Josiah Laivins </font>"
   ]
  },
  {
   "cell_type": "markdown",
   "metadata": {},
   "source": [
    "# I. Overview\n",
    "\n",
    "There is an interesting dataset found at: https://www.kaggle.com/zalando-research/fashionmnist\n",
    "\n",
    "Training a custom neural net for classifying clothing images seemed fun to test on. It consists of a total of 10 classes with 70,000 samples. They pre-separate the set into training and test sets, however I will combine them to do my own train-test splitting.\n",
    "\n",
    "I will be using a logistic neural net that can have an optional number of hidden layers to find advanced non-linear features."
   ]
  },
  {
   "cell_type": "markdown",
   "metadata": {},
   "source": [
    "# II. Data"
   ]
  },
  {
   "cell_type": "code",
   "execution_count": 115,
   "metadata": {},
   "outputs": [
    {
     "ename": "ImportError",
     "evalue": "cannot import name 'plot_precision_recall_f1' from 'util' (/Users/jlaivins/PycharmProjects/MachineLearning/src/ITCS6156MachineLearningCourse/josiah_laivins_assignment_4/util.py)",
     "output_type": "error",
     "traceback": [
      "\u001b[0;31m---------------------------------------------------------------------------\u001b[0m",
      "\u001b[0;31mImportError\u001b[0m                               Traceback (most recent call last)",
      "\u001b[0;32m<ipython-input-115-dc35f70b5250>\u001b[0m in \u001b[0;36m<module>\u001b[0;34m()\u001b[0m\n\u001b[1;32m      8\u001b[0m \u001b[0;32mfrom\u001b[0m \u001b[0mLayer\u001b[0m \u001b[0;32mimport\u001b[0m \u001b[0mLayer\u001b[0m\u001b[0;34m\u001b[0m\u001b[0m\n\u001b[1;32m      9\u001b[0m \u001b[0;32mfrom\u001b[0m \u001b[0mNeuralNetwork\u001b[0m \u001b[0;32mimport\u001b[0m \u001b[0mNeuralNetLogReg\u001b[0m\u001b[0;34m\u001b[0m\u001b[0m\n\u001b[0;32m---> 10\u001b[0;31m \u001b[0;32mfrom\u001b[0m \u001b[0mutil\u001b[0m \u001b[0;32mimport\u001b[0m \u001b[0mplot_confusion_matrix\u001b[0m\u001b[0;34m,\u001b[0m \u001b[0mplot_precision_recall_f1\u001b[0m\u001b[0;34m\u001b[0m\u001b[0m\n\u001b[0m\u001b[1;32m     11\u001b[0m \u001b[0;34m\u001b[0m\u001b[0m\n\u001b[1;32m     12\u001b[0m \u001b[0mget_ipython\u001b[0m\u001b[0;34m(\u001b[0m\u001b[0;34m)\u001b[0m\u001b[0;34m.\u001b[0m\u001b[0mmagic\u001b[0m\u001b[0;34m(\u001b[0m\u001b[0;34m'matplotlib inline'\u001b[0m\u001b[0;34m)\u001b[0m\u001b[0;34m\u001b[0m\u001b[0m\n",
      "\u001b[0;31mImportError\u001b[0m: cannot import name 'plot_precision_recall_f1' from 'util' (/Users/jlaivins/PycharmProjects/MachineLearning/src/ITCS6156MachineLearningCourse/josiah_laivins_assignment_4/util.py)"
     ]
    }
   ],
   "source": [
    "import pandas as pd\n",
    "import numpy as np\n",
    "import matplotlib.pyplot as plt\n",
    "from sklearn.model_selection import train_test_split\n",
    "from sklearn.metrics import confusion_matrix\n",
    "from sklearn.preprocessing import OneHotEncoder\n",
    "from tqdm import tqdm_notebook as tqdm\n",
    "from Layer import Layer\n",
    "from NeuralNetwork import NeuralNetLogReg\n",
    "from util import plot_confusion_matrix, plot_precision_recall_f1\n",
    "\n",
    "%matplotlib inline\n",
    "\n",
    "\"\"\" Dictionary of the classification values and their string equivalent \"\"\"\n",
    "classification_name = {0: 'T-shirt/top',\n",
    "                       1: 'Trouser',\n",
    "                       2: 'Pullover',\n",
    "                       3: 'Dress',\n",
    "                       4: 'Coat',\n",
    "                       5: 'Sandal',\n",
    "                       6: 'Shirt',\n",
    "                       7: 'Sneaker',\n",
    "                       8: 'Bag',\n",
    "                       9: 'Ankle boot'}\n",
    "\n",
    "\"\"\" The train and test sets are already split \"\"\"\n",
    "train = pd.read_csv('./data/fashionmnist/fashion-mnist_train.csv', nrows=300)\n",
    "test = pd.read_csv('./data/fashionmnist/fashion-mnist_test.csv', nrows=300)\n",
    "\n",
    "\"\"\" These are images that are 28x28, the column 0 is the label \"\"\"\n",
    "pic_train = np.array(train.iloc[0, 1:]).reshape((28, 28))\n",
    "pic_test = np.array(test.iloc[0, 1:]).reshape((28, 28))\n",
    "\n",
    "\"\"\" Example of the data that will be used \"\"\"\n",
    "fig = plt.figure(figsize=(14, 14))\n",
    "fig.add_subplot(1, 2, 1)\n",
    "plt.title(f'{train.loc[0][0]} is a {classification_name[train.loc[0][0]]}')\n",
    "plt.imshow(pic_train)\n",
    "fig.add_subplot(1, 2, 2)\n",
    "plt.title(f'{test.loc[0][0]} is a {classification_name[test.loc[0][0]]}')\n",
    "plt.imshow(pic_test)\n",
    "plt.show()\n",
    "\n",
    "\"\"\" Convert Pandas Frames into X and Y \"\"\"\n",
    "combined_X = pd.concat((train, test)).reset_index(drop=True)\n",
    "\n",
    "X = np.array(combined_X.iloc[:, 1:])\n",
    "Y = np.array(combined_X.iloc[:, 0]).reshape(-1, 1)\n",
    "\n",
    "\"\"\" Normalize and Standardize X and Y \"\"\"\n",
    "from Standardizer import Standardizer\n",
    "\n",
    "standardizer_x = Standardizer(X)\n",
    "stand_X = standardizer_x.standardize(X)\n",
    "encoder = OneHotEncoder()\n",
    "encoder.fit(Y)\n",
    "stand_Y = encoder.transform(Y).toarray()"
   ]
  },
  {
   "cell_type": "markdown",
   "metadata": {},
   "source": [
    "# III. Methods\n",
    "\n",
    "The nonlinear regression model takes in 784 pixel sample and compares it against a onehot target. You can add any number of layers for discovering high level features. This is a regression neuralnetwork wince the neuron activations are continuous, and linear classification can be performed based on the activations from the sigmoid functions. This is nonlinear since we combine linear neurons into a layered network.\n",
    "\n",
    "The goal is to toggle the weights to reduce the total cost. This is done using an adam optimizer. The metric that is used is RMSE, and the network tracks RMSE for both training and testing sets.\n",
    "\n",
    "- [X] Summarize the nonlinear regression model. \n",
    "- [X] Use the NeuralNet class for regression to apply to your data. \n",
    "- [X] Explain your codes. \n",
    "- [x] Explain and use 5-fold cross validation to find a good neural network parameters including the structure and report the test accuracy. "
   ]
  },
  {
   "cell_type": "code",
   "execution_count": 62,
   "metadata": {},
   "outputs": [
    {
     "data": {
      "text/plain": [
       "HBox(children=(IntProgress(value=0, max=5), HTML(value='')))"
      ]
     },
     "metadata": {},
     "output_type": "display_data"
    },
    {
     "name": "stderr",
     "output_type": "stream",
     "text": [
      "  1%|          | 5/500 [00:00<00:10, 48.55it/s]"
     ]
    },
    {
     "name": "stdout",
     "output_type": "stream",
     "text": [
      "On K fold 0\n"
     ]
    },
    {
     "name": "stderr",
     "output_type": "stream",
     "text": [
      "100%|██████████| 500/500 [00:08<00:00, 62.00it/s]\n",
      "100%|██████████| 500/500 [00:05<00:00, 88.48it/s]\n",
      "100%|██████████| 500/500 [00:04<00:00, 111.63it/s]\n",
      "100%|██████████| 500/500 [00:05<00:00, 89.26it/s]\n",
      "  1%|▏         | 7/500 [00:00<00:07, 64.90it/s]"
     ]
    },
    {
     "name": "stdout",
     "output_type": "stream",
     "text": [
      "On K fold 1\n"
     ]
    },
    {
     "name": "stderr",
     "output_type": "stream",
     "text": [
      "100%|██████████| 500/500 [00:06<00:00, 77.58it/s]\n",
      "100%|██████████| 500/500 [00:05<00:00, 86.95it/s]\n",
      "100%|██████████| 500/500 [00:04<00:00, 105.78it/s]\n",
      "100%|██████████| 500/500 [00:05<00:00, 88.91it/s]\n",
      "  1%|          | 6/500 [00:00<00:08, 55.46it/s]"
     ]
    },
    {
     "name": "stdout",
     "output_type": "stream",
     "text": [
      "On K fold 2\n"
     ]
    },
    {
     "name": "stderr",
     "output_type": "stream",
     "text": [
      "100%|██████████| 500/500 [00:06<00:00, 76.15it/s]\n",
      "100%|██████████| 500/500 [00:05<00:00, 92.43it/s]\n",
      "100%|██████████| 500/500 [00:04<00:00, 107.85it/s]\n",
      "100%|██████████| 500/500 [00:05<00:00, 91.30it/s]\n",
      "  1%|          | 6/500 [00:00<00:08, 55.36it/s]"
     ]
    },
    {
     "name": "stdout",
     "output_type": "stream",
     "text": [
      "On K fold 3\n"
     ]
    },
    {
     "name": "stderr",
     "output_type": "stream",
     "text": [
      "100%|██████████| 500/500 [00:06<00:00, 71.93it/s]\n",
      "100%|██████████| 500/500 [00:05<00:00, 85.18it/s]\n",
      "100%|██████████| 500/500 [00:04<00:00, 118.29it/s]\n",
      "100%|██████████| 500/500 [00:05<00:00, 88.82it/s]\n",
      "  1%|          | 6/500 [00:00<00:08, 55.28it/s]"
     ]
    },
    {
     "name": "stdout",
     "output_type": "stream",
     "text": [
      "On K fold 4\n"
     ]
    },
    {
     "name": "stderr",
     "output_type": "stream",
     "text": [
      "100%|██████████| 500/500 [00:06<00:00, 77.54it/s]\n",
      "100%|██████████| 500/500 [00:05<00:00, 90.89it/s]\n",
      "100%|██████████| 500/500 [00:04<00:00, 115.06it/s]\n",
      "100%|██████████| 500/500 [00:05<00:00, 91.90it/s]"
     ]
    },
    {
     "name": "stdout",
     "output_type": "stream",
     "text": [
      "\n",
      "\n",
      "\n",
      "For K 0, below was the best set of parameters for the network:\n",
      "    Params: {'n_hidden_layers': 1, 'layer_sizes': [32], 'epochs': 500, 'input_bias': True, 'hidden_bias': [True], 'activation_type': ['sigmoid'], 'id': 1}\n",
      "    Test RMSE: 0.279 Train RMSE: 0.271 Cost: 147.49218242535133\n",
      "For K 1, below was the best set of parameters for the network:\n",
      "    Params: {'n_hidden_layers': 1, 'layer_sizes': [32], 'epochs': 500, 'input_bias': True, 'hidden_bias': [True], 'activation_type': ['sigmoid'], 'id': 1}\n",
      "    Test RMSE: 0.292 Train RMSE: 0.285 Cost: 163.80604274013245\n",
      "For K 2, below was the best set of parameters for the network:\n",
      "    Params: {'n_hidden_layers': 1, 'layer_sizes': [32], 'epochs': 500, 'input_bias': True, 'hidden_bias': [True], 'activation_type': ['sigmoid'], 'id': 1}\n",
      "    Test RMSE: 0.3 Train RMSE: 0.298 Cost: 178.45691292252343\n",
      "For K 3, below was the best set of parameters for the network:\n",
      "    Params: {'n_hidden_layers': 1, 'layer_sizes': [32], 'epochs': 500, 'input_bias': True, 'hidden_bias': [True], 'activation_type': ['sigmoid'], 'id': 1}\n",
      "    Test RMSE: 0.295 Train RMSE: 0.288 Cost: 166.17477711446335\n",
      "For K 4, below was the best set of parameters for the network:\n",
      "    Params: {'n_hidden_layers': 1, 'layer_sizes': [32], 'epochs': 500, 'input_bias': True, 'hidden_bias': [True], 'activation_type': ['sigmoid'], 'id': 1}\n",
      "    Test RMSE: 0.29 Train RMSE: 0.286 Cost: 164.54801821836975\n"
     ]
    },
    {
     "name": "stderr",
     "output_type": "stream",
     "text": [
      "\n"
     ]
    }
   ],
   "source": [
    "\"\"\" Set up K-Fold \"\"\"\n",
    "k_folds = 5\n",
    "\n",
    "# Logs for K and the params to test\n",
    "# Some main points here is testing the network's performance based on structure and variables.\n",
    "# Do more layers do better than one big layer? \n",
    "# Do the inclusion of bias's improve performance?\n",
    "train_params = [{'n_hidden_layers': 2, 'layer_sizes': [32, 32], 'epochs': 500, 'input_bias':False, 'hidden_bias': [False, False],\n",
    "                 'activation_type': ['sigmoid', 'sigmoid']},\n",
    "                {'n_hidden_layers': 1, 'layer_sizes': [32], 'epochs': 500, 'input_bias':True, 'hidden_bias': [True],\n",
    "                 'activation_type': ['sigmoid']},\n",
    "                {'n_hidden_layers': 1, 'layer_sizes': [16], 'epochs': 500, 'input_bias':True, 'hidden_bias': [True],\n",
    "                 'activation_type': ['sigmoid']},\n",
    "                ]\n",
    "rmse_test_per_k = []\n",
    "rmse_train_per_k = []\n",
    "cost_log_per_k = []\n",
    "best_param_per_k = []\n",
    "\n",
    "# For each K\n",
    "for k in tqdm(range(k_folds)):\n",
    "    print(f'On K fold {k}')\n",
    "    # The dataset gets split 67, 33 for every k fold. This means that the entire dataset\n",
    "    # will get shuffled 5 times\n",
    "    X_train, X_test, y_train, y_test = train_test_split(stand_X, stand_Y, test_size=0.33)\n",
    "    # We want to see which of the parameters produces the least error\n",
    "    local_rmse = []\n",
    "\n",
    "    # Test each param\n",
    "    for param in train_params:\n",
    "        \"\"\" Build Neural Net \"\"\"\n",
    "        nn = NeuralNetLogReg(X_train, y_train, X_test, y_test)\n",
    "        nn.add_layer(Layer(X_train[0].shape, is_input=True, name='Input Layer', use_bias=True))\n",
    "        # Based on the params, build the network\n",
    "        for i in range(param['n_hidden_layers']):\n",
    "            nn.add_layer(Layer(param['layer_sizes'][i], name=f'Hidden Layer {i}',\n",
    "                               use_bias=param['hidden_bias'][i],\n",
    "                               activation=param['activation_type'][i]))\n",
    "        nn.add_layer(Layer(y_train.shape[1], is_output=True, name='Output Layer'))\n",
    "\n",
    "        \"\"\" Train Neural Network \"\"\"\n",
    "        nn.train(X_train, y_train, epochs=param['epochs'])\n",
    "\n",
    "        # Set test rmse local or res\n",
    "        local_rmse.append(nn.log_rmse_test[-1])\n",
    "\n",
    "    # Ones we have tested all the params, we pick the best one\n",
    "    # noinspection PyTypeChecker\n",
    "    param = train_params[np.argmin(local_rmse, axis=0)]  # Pick the one with the lowest rmse\n",
    "\n",
    "    \"\"\" Build Neural Net \"\"\"\n",
    "    nn = NeuralNetLogReg(X_train, y_train, X_test, y_test)\n",
    "    nn.add_layer(Layer(stand_X[0].shape, is_input=True, name='Input Layer', use_bias=True))\n",
    "    # Based on the params, build the network\n",
    "    for i in range(param['n_hidden_layers']):\n",
    "        nn.add_layer(Layer(param['layer_sizes'][i], name=f'Hidden Layer {i}',\n",
    "                           use_bias=param['hidden_bias'][i],\n",
    "                           activation=param['activation_type'][i]))\n",
    "    nn.add_layer(Layer(y_train.shape[1], is_output=True, name='Output Layer'))\n",
    "\n",
    "    \"\"\" Train Neural Network \"\"\"\n",
    "    nn.train(X_train, y_train, epochs=param['epochs'])\n",
    "\n",
    "    # Set test rmse local or res\n",
    "    rmse_test_per_k.append(nn.log_rmse_test)\n",
    "    rmse_train_per_k.append(nn.log_rmse_train)\n",
    "    cost_log_per_k.append(nn.cost_log)\n",
    "    param['id'] = np.argmin(local_rmse, axis=0)\n",
    "    best_param_per_k.append(param)\n",
    "\n",
    "print('\\n')\n",
    "\"\"\" Display the results \"\"\"\n",
    "for k in range(k_folds):\n",
    "    print(f'For K {k}, below was the best set of parameters for the network:')\n",
    "    print(f'    Params: {best_param_per_k[k]}')\n",
    "    print(f'    Test RMSE: {rmse_test_per_k[k][-1]} Train RMSE: {rmse_train_per_k[k][-1]} Cost: {cost_log_per_k[k][-1]}')"
   ]
  },
  {
   "cell_type": "markdown",
   "metadata": {},
   "source": []
  },
  {
   "cell_type": "markdown",
   "metadata": {},
   "source": [
    "# IV - Results\n",
    "\n",
    "- Presents the results of comparison of the tested models.\n",
    "- Visualize the results \n",
    "- Discuss about the choice of parameters for each model \n",
    "- What do you think about the results? "
   ]
  },
  {
   "cell_type": "code",
   "execution_count": 96,
   "metadata": {},
   "outputs": [
    {
     "name": "stdout",
     "output_type": "stream",
     "text": [
      "Of 5 K folds, {'n_hidden_layers': 1, 'layer_sizes': [32], 'epochs': 500, 'input_bias': True, 'hidden_bias': [True], 'activation_type': ['sigmoid'], 'id': 1} has generally the lowest RMSE\n"
     ]
    },
    {
     "data": {
      "text/plain": [
       "Text(0,0.5,'Cost')"
      ]
     },
     "execution_count": 96,
     "metadata": {},
     "output_type": "execute_result"
    },
    {
     "data": {
      "image/png": "[encoded data removed]",
      "text/plain": [
       "<Figure size 720x1440 with 2 Axes>"
      ]
     },
     "metadata": {
      "needs_background": "light"
     },
     "output_type": "display_data"
    }
   ],
   "source": [
    "import copy\n",
    "# Of the K folds, which parameter set occurs the most?\n",
    "copy_best_param_per_k = copy.deepcopy(best_param_per_k)\n",
    "_, counts = np.unique([p['id'] for p in copy_best_param_per_k], return_counts=True)\n",
    "print(f'Of {k+1} K folds, {best_param_per_k[np.argmax(counts)]} has generally the lowest RMSE')\n",
    "best_k = np.argmax(counts)\n",
    "\n",
    "# Copy the params because I dont want to accidently reset them...\n",
    "copy_rmse_test = rmse_test_per_k[best_k]\n",
    "copy_rmse_train = rmse_train_per_k[best_k]\n",
    "copy_cost_log = cost_log_per_k[best_k]\n",
    "copy_best_param = best_param_per_k[best_k]\n",
    "\n",
    "\"\"\" Plot the test and train RMSE \"\"\"\n",
    "plt.figure(figsize=(10,20))\n",
    "plt.subplot(3,1,1)\n",
    "plt.plot(copy_rmse_test)\n",
    "plt.xlabel('Epochs')\n",
    "plt.ylabel('RMSE for Test and training')\n",
    "plt.plot(copy_rmse_train)\n",
    "plt.legend(('Test','Train'),loc='upper left')\n",
    "\n",
    "plt.subplot(3,1,2)\n",
    "plt.plot(copy_cost_log)\n",
    "plt.xlabel('Epochs')\n",
    "plt.ylabel('Cost')"
   ]
  },
  {
   "cell_type": "code",
   "execution_count": null,
   "metadata": {},
   "outputs": [],
   "source": [
    "X_train, X_test, y_train, y_test = train_test_split(stand_X, stand_Y, test_size=0.33)\n",
    "nn = NeuralNetLogReg(X_train, y_train, X_test, y_test)\n",
    "nn.add_layer(Layer(stand_X[0].shape, is_input=True, name='Input Layer', use_bias=copy_best_param['input_bias']))\n",
    "# Based on the params, build the network\n",
    "for i in range(copy_best_param['n_hidden_layers']):\n",
    "    nn.add_layer(Layer(copy_best_param['layer_sizes'][i], name=f'Hidden Layer {i}',\n",
    "                   use_bias=copy_best_param['hidden_bias'][i],\n",
    "                   activation=copy_best_param['activation_type'][i]))\n",
    "    nn.add_layer(Layer(y_train.shape[1], is_output=True, name='Output Layer'))\n",
    "\n",
    "\"\"\" Train Neural Network \"\"\"\n",
    "nn.train(X_train, y_train, epochs=copy_best_param['epochs'])"
   ]
  },
  {
   "cell_type": "code",
   "execution_count": 116,
   "metadata": {},
   "outputs": [
    {
     "name": "stdout",
     "output_type": "stream",
     "text": [
      "Confusion matrix, without normalization\n",
      "[[16  0  0  1  0  0  0  0  1  0]\n",
      " [ 2 14  0  2  0  0  0  0  0  0]\n",
      " [ 1  0 13  0  6  0  0  0  1  0]\n",
      " [ 1  0  0 24  0  0  0  0  0  0]\n",
      " [ 0  0  0  2 19  0  0  0  0  0]\n",
      " [ 0  0  0  0  0 11  0  3  0  0]\n",
      " [ 4  0  1  3 10  0  0  0  0  0]\n",
      " [ 0  0  0  0  0  2  0 22  0  2]\n",
      " [ 0  0  0  1  0  0  0  0 16  0]\n",
      " [ 0  0  0  1  0  1  0  0  1 17]]\n"
     ]
    },
    {
     "name": "stderr",
     "output_type": "stream",
     "text": [
      "/Users/jlaivins/PycharmProjects/MachineLearning/venv/lib/python3.7/site-packages/sklearn/metrics/classification.py:1135: UndefinedMetricWarning: Precision and F-score are ill-defined and being set to 0.0 in labels with no predicted samples.\n",
      "  'precision', 'predicted', average, warn_for)\n"
     ]
    },
    {
     "ename": "NameError",
     "evalue": "name 'plot_precision_recall_f1' is not defined",
     "output_type": "error",
     "traceback": [
      "\u001b[0;31m---------------------------------------------------------------------------\u001b[0m",
      "\u001b[0;31mNameError\u001b[0m                                 Traceback (most recent call last)",
      "\u001b[0;32m<ipython-input-116-930667805d3f>\u001b[0m in \u001b[0;36m<module>\u001b[0;34m()\u001b[0m\n\u001b[1;32m     12\u001b[0m \u001b[0;32mfrom\u001b[0m \u001b[0msklearn\u001b[0m\u001b[0;34m.\u001b[0m\u001b[0mmetrics\u001b[0m \u001b[0;32mimport\u001b[0m \u001b[0mprecision_recall_fscore_support\u001b[0m\u001b[0;34m\u001b[0m\u001b[0m\n\u001b[1;32m     13\u001b[0m \u001b[0mmetrics\u001b[0m \u001b[0;34m=\u001b[0m \u001b[0mprecision_recall_fscore_support\u001b[0m\u001b[0;34m(\u001b[0m\u001b[0my_labeled\u001b[0m\u001b[0;34m,\u001b[0m \u001b[0my_predict\u001b[0m\u001b[0;34m,\u001b[0m \u001b[0maverage\u001b[0m\u001b[0;34m=\u001b[0m\u001b[0;34m'weighted'\u001b[0m\u001b[0;34m)\u001b[0m\u001b[0;34m\u001b[0m\u001b[0m\n\u001b[0;32m---> 14\u001b[0;31m \u001b[0mplot_precision_recall_f1\u001b[0m\u001b[0;34m(\u001b[0m\u001b[0mmetrics\u001b[0m\u001b[0;34m,\u001b[0m \u001b[0;34m[\u001b[0m\u001b[0;34m'Precision'\u001b[0m\u001b[0;34m,\u001b[0m \u001b[0;34m'Recall'\u001b[0m\u001b[0;34m,\u001b[0m \u001b[0;34m'f Score'\u001b[0m\u001b[0;34m]\u001b[0m\u001b[0;34m)\u001b[0m\u001b[0;34m\u001b[0m\u001b[0m\n\u001b[0m",
      "\u001b[0;31mNameError\u001b[0m: name 'plot_precision_recall_f1' is not defined"
     ]
    },
    {
     "data": {
      "image/png": "[encoded data removed]",
      "text/plain": [
       "<Figure size 864x864 with 2 Axes>"
      ]
     },
     "metadata": {
      "needs_background": "light"
     },
     "output_type": "display_data"
    }
   ],
   "source": [
    "\"\"\" Use Neural Network \"\"\"\n",
    "y_labeled = np.argmax(copy.deepcopy(y_test), axis=1)\n",
    "y_predict = nn.use(X_test)\n",
    "\n",
    "# Compute confusion matrix\n",
    "cnf_matrix = confusion_matrix(y_labeled, y_predict)\n",
    "# Plot non-normalized confusion matrix\n",
    "plt.figure(figsize=(12, 12))\n",
    "plot_confusion_matrix(cnf_matrix, classes=[classification_name[c] for c in classification_name],\n",
    "                      title='Confusion matrix, without normalization')\n",
    "\n",
    "from sklearn.metrics import precision_recall_fscore_support\n",
    "metrics = precision_recall_fscore_support(y_labeled, y_predict, average='weighted')\n",
    "plot_precision_recall_f1(metrics, ['Precision', 'Recall', 'f Score'])"
   ]
  },
  {
   "cell_type": "markdown",
   "metadata": {},
   "source": [
    "# Conclusions\n",
    "\n",
    "Discuss the challenges or somethat that you learned. \n",
    "If you have any suggestion about the assignment, you can write about it. "
   ]
  },
  {
   "cell_type": "markdown",
   "metadata": {},
   "source": [
    "# Extra Credit\n",
    "\n",
    "Extra credit is solved by the above code in the methods section:\n",
    "\n",
    "- [x] Finish the following nonlinear logistic regression class and apply to your classification data. \n",
    "- [x] Use cross validation to discover the best model. "
   ]
  },
  {
   "cell_type": "markdown",
   "metadata": {},
   "source": [
    "# Deep Learning (2 Extra Credits)\n",
    "\n",
    "\n",
    "For A5 extra credits, you build a deep network with more than 5 layers using TensorFlow. \n",
    "Main task for this work is converting your neural network codes with TensorFlow and searching for good structures that works well for your data. \n",
    "This includes following tasks.\n",
    "\n",
    "- Pick at least 3 different networks for experiments.\n",
    "- Summarize the choice of your networks. \n",
    "- Explain your TensorFlow codes. \n",
    "- Explain how you apply your model to your data. \n",
    "- Results\n",
    "  - Presents the results of applications of your deep networks.\n",
    "  - Visualize the results \n",
    "  - Discuss about the choice of network structures and performance of it as you change the structures.  \n",
    "  - What do you think about the results? \n"
   ]
  },
  {
   "cell_type": "markdown",
   "metadata": {},
   "source": [
    "## Grading\n",
    "\n",
    "DO NOT forget to submit your data! Your notebook is supposed to run fine after running your codes. \n",
    "\n",
    "\n",
    "| points |--| description |\n",
    "--|--|:--|\n",
    " 5 | Overview | states the objective and the appraoch | \n",
    "10 | Data | \n",
    "- | 2| Includes description of your data\n",
    "- | 3| Plots to visualize data \n",
    "- | 5| Reading and analyzing the plots \n",
    "45 | Methods | \n",
    " - | 10| Summary of Neural Networks\n",
    " - | 5| Explanation of codes\n",
    " - | 10| Examination of correct implementation with preliminary test with *explanation (5 pts)*\n",
    " |20| Cross validation codes and explanation \n",
    " 35 | Results | Your Data\n",
    " | 10| plots for results\n",
    " | 15| Discussions about parameter/network structure choice \n",
    " | 10| Discussion about the prediction results. Try to analyze what nonlinear regression model learned. \n",
    " 5 | Conclusions \n"
   ]
  },
  {
   "cell_type": "code",
   "execution_count": null,
   "metadata": {},
   "outputs": [],
   "source": []
  }
 ],
 "metadata": {
  "kernelspec": {
   "display_name": "Python 3",
   "language": "python",
   "name": "python3"
  },
  "language_info": {
   "codemirror_mode": {
    "name": "ipython",
    "version": 3
   },
   "file_extension": ".py",
   "mimetype": "text/x-python",
   "name": "python",
   "nbconvert_exporter": "python",
   "pygments_lexer": "ipython3",
   "version": "3.7.0"
  }
 },
 "nbformat": 4,
 "nbformat_minor": 2
}
